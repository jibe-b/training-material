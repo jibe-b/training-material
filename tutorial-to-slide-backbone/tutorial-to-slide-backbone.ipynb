{
 "cells": [
  {
   "cell_type": "code",
   "execution_count": 1,
   "metadata": {
    "collapsed": true
   },
   "outputs": [],
   "source": [
    "import re\n",
    "import os"
   ]
  },
  {
   "cell_type": "code",
   "execution_count": 2,
   "metadata": {
    "collapsed": false,
    "scrolled": true
   },
   "outputs": [],
   "source": [
    "tuto_filename = 'test-tutorial.md'\n",
    "slide_filename = re.sub(r'tutorial', r'slide', tuto_filename)"
   ]
  },
  {
   "cell_type": "code",
   "execution_count": 3,
   "metadata": {
    "collapsed": false
   },
   "outputs": [
    {
     "name": "stdout",
     "output_type": "stream",
     "text": [
      "...\r\n",
      "title: Titre\r\n",
      "layout: tutorial\r\n",
      "layout: slide\r\n",
      "...\r\n",
      "# Introduction\r\n",
      "\r\n",
      "![](image.png)\r\n",
      "\r\n",
      "---\r\n",
      "# Prep data\r\n",
      "----\r\n",
      "## how to\r\n",
      "---\r\n",
      "# Analyse\r\n",
      " ### Question\r\n",
      " blabla\r\n",
      " - tick\r\n",
      " - tick\r\n",
      "\r\n"
     ]
    }
   ],
   "source": [
    "f = open(tuto_filename, 'r')\n",
    "os.system(\"sed -n -f regexify-print-tutorial-to-slides-backbone.sed \" + tuto_filename + \">\" + slide_filename)\n",
    "!cat $slide_filename\n",
    "f.close()"
   ]
  }
 ],
 "metadata": {
  "anaconda-cloud": {},
  "kernelspec": {
   "display_name": "Python [default]",
   "language": "python",
   "name": "python2"
  },
  "language_info": {
   "codemirror_mode": {
    "name": "ipython",
    "version": 2
   },
   "file_extension": ".py",
   "mimetype": "text/x-python",
   "name": "python",
   "nbconvert_exporter": "python",
   "pygments_lexer": "ipython2",
   "version": "2.7.12"
  }
 },
 "nbformat": 4,
 "nbformat_minor": 1
}
